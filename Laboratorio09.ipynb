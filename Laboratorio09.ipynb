{
  "nbformat": 4,
  "nbformat_minor": 0,
  "metadata": {
    "colab": {
      "provenance": [],
      "authorship_tag": "ABX9TyO71gAwi3xkq8uuINFaNKZk",
      "include_colab_link": true
    },
    "kernelspec": {
      "name": "python3",
      "display_name": "Python 3"
    },
    "language_info": {
      "name": "python"
    }
  },
  "cells": [
    {
      "cell_type": "markdown",
      "metadata": {
        "id": "view-in-github",
        "colab_type": "text"
      },
      "source": [
        "<a href=\"https://colab.research.google.com/github/fralibatero/BIBLIOTECA_ANALISIS_DATOS/blob/main/Laboratorio09.ipynb\" target=\"_parent\"><img src=\"https://colab.research.google.com/assets/colab-badge.svg\" alt=\"Open In Colab\"/></a>"
      ]
    },
    {
      "cell_type": "markdown",
      "source": [
        "# 1.\tEjercicio de práctica 1."
      ],
      "metadata": {
        "id": "evYxJlHvBWfU"
      }
    },
    {
      "cell_type": "markdown",
      "source": [
        "**Aseguramiento de la Calidad de los Datos\n",
        "Se tiene un conjunto de datos sobre empleados que incluye su nombre, edad, salario y fecha de ingreso. Se requiere implementar algunos pasos de aseguramiento de la calidad de los datos, como la verificación de valores faltantes y la validación de formatos de datos.**\n",
        "-\tDatos\n",
        "•\tNombre: Juan,Ana, Pedro,María,Luis,Ana\n",
        "•\tEdad:28, 34, None, 45, 38, 34.\n",
        "•\tSalario:3000, 4000, cinco mil, 4500, 4000, 5000\n",
        "•\tFecha\tIngreso:2021-01-15,\t2020/03/12,\t2022-07-01,2021/12/01,2021-05-20, 2020-03-12\n",
        "\n",
        "\n"
      ],
      "metadata": {
        "id": "_E8Mg-xeBtqD"
      }
    },
    {
      "cell_type": "code",
      "source": [
        "import pandas as pd\n",
        "\n",
        "datos = {'nombre': ['Juan', 'Ana', 'Producto', 'María', 'Luis', 'Ana'],\n",
        "         'edad': [28, 34, None, 45, 38, 34],\n",
        "         'salario': [3000,4000,'cinco mil', 4500,4000, 5000],\n",
        "         'fecha_ingreso': ['2021-01-15', '2020/03/12', '2022-07-01','2021/12/01', '2021-05-20', '2020-03-12']}\n",
        "df=pd.DataFrame(datos)\n",
        "\n",
        "print(\"--------------------------------------------------------\")\n",
        "print(df)\n",
        "print(\"---------------------------------------------------------\")\n",
        "print(\"\\n\")\n",
        "\n",
        "print(\"**************************************\")\n",
        "#1.\tIdentificar y contar los valores faltantes en cada columna.\n",
        "valores_faltantes = df.isnull().sum()\n",
        "print(\"Valores faltantes por columna:\")\n",
        "print(valores_faltantes)\n",
        "print(\"**************************************\")\n",
        "print(\"\\n\")\n",
        "\n",
        "print(\"**************************************\")\n",
        "# Verificar el formato de la columna \"Salario\"\n",
        "salarios_incorrectos = df[~df['salario'].astype(str).str.isdigit()]\n",
        "print(\"\\nSalarios con formato incorrecto:\")\n",
        "print(salarios_incorrectos)\n",
        "print(\"**************************************\")\n",
        "print(\"\\n\")\n",
        "# 2. Corregir el formato de fecha\n",
        "\n",
        "# Primero reemplazamos las barras (/) por guiones (-) solo si la fecha es una cadena (string)\n",
        "df['fecha_ingreso'] = df['fecha_ingreso'].astype(str).str.replace('/', '-', regex=False)\n",
        "\n",
        "# Convertimos la columna 'fecha_ingreso' a formato datetime, manejando valores erróneos como NaT\n",
        "df['fecha_ingreso'] = pd.to_datetime(df['fecha_ingreso'], errors='coerce', format='%Y-%m-%d')\n",
        "\n",
        "# Mostrar los datos de la fecha después de la corrección\n",
        "print(\"\\nDatos Validados de Fecha de Ingreso:\")\n",
        "print(df[['nombre', 'fecha_ingreso']])\n",
        "print(\"**************************************\")\n"
      ],
      "metadata": {
        "colab": {
          "base_uri": "https://localhost:8080/"
        },
        "id": "K2ThTr-uBrbG",
        "outputId": "19d40cc1-d301-4345-9887-f1ac63ed5bc5"
      },
      "execution_count": 60,
      "outputs": [
        {
          "output_type": "stream",
          "name": "stdout",
          "text": [
            "--------------------------------------------------------\n",
            "     nombre  edad    salario fecha_ingreso\n",
            "0      Juan  28.0       3000    2021-01-15\n",
            "1       Ana  34.0       4000    2020/03/12\n",
            "2  Producto   NaN  cinco mil    2022-07-01\n",
            "3     María  45.0       4500    2021/12/01\n",
            "4      Luis  38.0       4000    2021-05-20\n",
            "5       Ana  34.0       5000    2020-03-12\n",
            "---------------------------------------------------------\n",
            "\n",
            "\n",
            "**************************************\n",
            "Valores faltantes por columna:\n",
            "nombre           0\n",
            "edad             1\n",
            "salario          0\n",
            "fecha_ingreso    0\n",
            "dtype: int64\n",
            "**************************************\n",
            "\n",
            "\n",
            "**************************************\n",
            "\n",
            "Salarios con formato incorrecto:\n",
            "     nombre  edad    salario fecha_ingreso\n",
            "2  Producto   NaN  cinco mil    2022-07-01\n",
            "**************************************\n",
            "\n",
            "\n",
            "\n",
            "Datos Validados de Fecha de Ingreso:\n",
            "     nombre fecha_ingreso\n",
            "0      Juan    2021-01-15\n",
            "1       Ana    2020-03-12\n",
            "2  Producto    2022-07-01\n",
            "3     María    2021-12-01\n",
            "4      Luis    2021-05-20\n",
            "5       Ana    2020-03-12\n",
            "**************************************\n"
          ]
        }
      ]
    },
    {
      "cell_type": "markdown",
      "source": [
        "**Se tiene un conjunto de datos sobre empleados que incluye su nombre, edad, salario, puesto de trabajo y fecha de ingreso. Se requiere implementar aseguramiento de la calidad de los datos, verificando la completitud de los datos, la validez de los salarios y la consistencia de las fechas de ingreso.**\n",
        "\n",
        "**Datos:\n",
        "•\tNombre: Juan, Ana, Pedro, María, Luis, Carla\n",
        "•\tEdad: 28, None, 40, 45, 38, 34\n",
        "•\tSalario: 3000, 4000, 4500, cuatro mil, 5000, 4000\n",
        "•\tCargo: Analista, Gerente, Desarrollador, Gerente, Analista, None\n",
        "•\tFecha Ingreso: 2021-01-15, 2020/03/12, 2022-07-01, 2021/12/01, None, 2020-\n",
        "03-12**\n"
      ],
      "metadata": {
        "id": "2meUmIMOjp_P"
      }
    },
    {
      "cell_type": "code",
      "source": [
        "import pandas as pd\n",
        "\n",
        "datos = {'nombre': ['Juan', 'Ana', 'Pedro', 'María', 'Luis', 'carla'],\n",
        "         'edad': [28, None, 40, 45, 38, 34],\n",
        "         'salario': [3000, 4000, 4500, 'cuatro mil',5000,4000],\n",
        "          'cargo': [ 'Analista', 'Gerente', 'Desarrollador', 'Gerente', 'Analista', None],\n",
        "          'fecha_ingreso': ['2021-01-15', '2020/03/12', '2022-07-01', '2021/12/01', None, '2020-03-12']}\n",
        "\n",
        "\n",
        "df=pd.DataFrame(datos)\n",
        "\n",
        "print(\"---------------TABLA----------------------------------------\")\n",
        "print(df)\n",
        "print(\"--------------------------------------------------------------\")\n",
        "print(\"\\n\")\n",
        "\n",
        "#1.\tIdentificar y contar los valores faltantes en cada columna.\n",
        "valores_faltantes = df.isnull().sum()\n",
        "print(\"Valores faltantes por columna:\")\n",
        "print(valores_faltantes)\n",
        "print(\"**************************************\")\n",
        "print(\"\\n\")\n",
        "\n",
        "#2.\tVerificar el formato de la columna \"Salario\" para asegurarse de que todos los valores sean numéricos.\n",
        "# Verificar el formato de la columna \"Salario\"\n",
        "salarios_incorrectos = df[~df['salario'].astype(str).str.isdigit()]\n",
        "print(\"\\nSalarios con formato incorrecto:\")\n",
        "print(salarios_incorrectos)\n",
        "print(\"**************************************\")\n",
        "print(\"\\n\")\n",
        "\n",
        "# 3. Corregir el formato de fecha\n",
        "\n",
        "# Primero reemplazamos las barras (/) por guiones (-) solo si la fecha es una cadena (string)\n",
        "df['fecha_ingreso'] = df['fecha_ingreso'].astype(str).str.replace('/', '-', regex=False)\n",
        "\n",
        "# Convertimos la columna 'fecha_ingreso' a formato datetime, manejando valores erróneos como NaT\n",
        "df['fecha_ingreso'] = pd.to_datetime(df['fecha_ingreso'], errors='coerce', format='%Y-%m-%d')\n",
        "\n",
        "# Mostrar los datos de la fecha después de la corrección\n",
        "print(\"\\nDatos Validados de Fecha de Ingreso:\")\n",
        "print(df[['nombre', 'fecha_ingreso']])\n",
        "print(\"**************************************\")\n",
        "\n",
        "#\tVerificar que no haya valores faltantes en la columna \"Cargo\".\n",
        "cargo_Faltante   = df['cargo'].isnull().sum()\n",
        "print(\"\\nNumero de Cargos Faltantes 'Cargo':\")\n",
        "print(cargo_Faltante)\n",
        "print(\"**************************************\")\n",
        "print(\"\\n\")\n",
        "cargo_Faltante   = df[df['cargo'].isnull()]\n",
        "print(\"\\nRegistro con faltantes en la columna 'Cargo':\")\n",
        "print(cargo_Faltante)\n",
        "print(\"**************************************\")\n",
        "\n",
        "\n",
        "#Datos despues de Validacion \".\n",
        "print(\"\\n---------------TABLA----------------------------------------\")\n",
        "print(cargo_Faltante,salarios_incorrectos)\n",
        "print(\"--------------------------------------------------------------\")\n",
        "print(\"\\n\")\n"
      ],
      "metadata": {
        "colab": {
          "base_uri": "https://localhost:8080/"
        },
        "id": "xz2fuMQEjpXA",
        "outputId": "2cfaab2e-b7ca-4777-f1f8-ce2fad5cb2c8"
      },
      "execution_count": 79,
      "outputs": [
        {
          "output_type": "stream",
          "name": "stdout",
          "text": [
            "---------------TABLA----------------------------------------\n",
            "  nombre  edad     salario          cargo fecha_ingreso\n",
            "0   Juan  28.0        3000       Analista    2021-01-15\n",
            "1    Ana   NaN        4000        Gerente    2020/03/12\n",
            "2  Pedro  40.0        4500  Desarrollador    2022-07-01\n",
            "3  María  45.0  cuatro mil        Gerente    2021/12/01\n",
            "4   Luis  38.0        5000       Analista          None\n",
            "5  carla  34.0        4000           None    2020-03-12\n",
            "--------------------------------------------------------------\n",
            "\n",
            "\n",
            "Valores faltantes por columna:\n",
            "nombre           0\n",
            "edad             1\n",
            "salario          0\n",
            "cargo            1\n",
            "fecha_ingreso    1\n",
            "dtype: int64\n",
            "**************************************\n",
            "\n",
            "\n",
            "\n",
            "Salarios con formato incorrecto:\n",
            "  nombre  edad     salario    cargo fecha_ingreso\n",
            "3  María  45.0  cuatro mil  Gerente    2021/12/01\n",
            "**************************************\n",
            "\n",
            "\n",
            "\n",
            "Datos Validados de Fecha de Ingreso:\n",
            "  nombre fecha_ingreso\n",
            "0   Juan    2021-01-15\n",
            "1    Ana    2020-03-12\n",
            "2  Pedro    2022-07-01\n",
            "3  María    2021-12-01\n",
            "4   Luis           NaT\n",
            "5  carla    2020-03-12\n",
            "**************************************\n",
            "\n",
            "Numero de Cargos Faltantes 'Cargo':\n",
            "1\n",
            "**************************************\n",
            "\n",
            "\n",
            "\n",
            "Registro con faltantes en la columna 'Cargo':\n",
            "  nombre  edad salario cargo fecha_ingreso\n",
            "5  carla  34.0    4000  None    2020-03-12\n",
            "**************************************\n",
            "\n",
            "---------------TABLA----------------------------------------\n",
            "  nombre  edad salario cargo fecha_ingreso\n",
            "5  carla  34.0    4000  None    2020-03-12   nombre  edad     salario    cargo fecha_ingreso\n",
            "3  María  45.0  cuatro mil  Gerente    2021/12/01\n",
            "--------------------------------------------------------------\n",
            "\n",
            "\n"
          ]
        }
      ]
    },
    {
      "cell_type": "markdown",
      "source": [
        "1.\tSe requiere validar los datos: Precios de Productos, se tiene una lista de productos con los respectivos precios y se necesita validar que ningún precio sea negativo o nulo.\n",
        "\n",
        "-\tSe requiere:\n",
        "1.\tCrear un DataFrame con productos y precios.\n",
        "2.\tProducto: Producto A, Producto B,Producto C,Producto D.\n",
        "3. Precio:150, -25, 100, None.\n",
        "4.\tValidar que todos los precios sean mayores o iguales a cero y no nulos.\n",
        "5.\tMostrar los productos con precios inválidos.\n",
        "\n"
      ],
      "metadata": {
        "id": "MmhqtxktsgQv"
      }
    },
    {
      "cell_type": "code",
      "source": [
        "import pandas as pd\n",
        "#1.\tCrear un DataFrame con productos y precios.\n",
        "datos = {'producto': ['Producto A', 'Producto B', 'Producto C', 'Producto D'],\n",
        "         'precio': [150, -25, 100, None]}\n",
        "\n",
        "df = pd.DataFrame(datos)\n",
        "print(df)\n",
        "\n",
        "\n",
        "\n",
        "#Validar que todos los precios sean mayores o iguales a cero y no nulos.\n",
        "df['precio_valido'] = df['precio'].notnull() & (df['precio'] >= 0)\n",
        "print(\"\\n\")\n",
        "\n",
        "#Validar que todos los precios sean mayores o iguales a cero y no nulos.\n",
        "df['precio_valido'] = df['precio'].apply(lambda x: 'Válido' if (pd.notnull(x) and x >= 0) else 'Invalido')\n",
        "print(\"\\n\")\n",
        "\n",
        "print(\"              Precios Inválidos       \")\n",
        "print(\"-----------------------------------------------------------\")\n",
        "\n",
        "\n",
        "df_invalido = df[df['precio_valido'] == 'Invalido']\n",
        "print(df_invalido) #This line is not valid python\n",
        "print(\"-----------------------------------------------------------\")\n",
        "print(\"\\n\")\n",
        "print(\"              Precios Válidos       \")\n",
        "print(\"-----------------------------------------------------------\")\n",
        "\n",
        "\n",
        "df_invalido = df[df['precio_valido'] != 'Invalido']\n",
        "print(df_invalido) #This line is not valid python\n",
        "print(\"-----------------------------------------------------------\")\n"
      ],
      "metadata": {
        "colab": {
          "base_uri": "https://localhost:8080/"
        },
        "id": "5_sM29D0nOn_",
        "outputId": "6d53e268-a6ca-486f-c092-046cdf25174b"
      },
      "execution_count": 111,
      "outputs": [
        {
          "output_type": "stream",
          "name": "stdout",
          "text": [
            "     producto  precio\n",
            "0  Producto A   150.0\n",
            "1  Producto B   -25.0\n",
            "2  Producto C   100.0\n",
            "3  Producto D     NaN\n",
            "\n",
            "\n",
            "\n",
            "\n",
            "              Precios Inválidos       \n",
            "-----------------------------------------------------------\n",
            "     producto  precio precio_valido\n",
            "1  Producto B   -25.0      Invalido\n",
            "3  Producto D     NaN      Invalido\n",
            "-----------------------------------------------------------\n",
            "\n",
            "\n",
            "              Precios Válidos       \n",
            "-----------------------------------------------------------\n",
            "     producto  precio precio_valido\n",
            "0  Producto A   150.0        Válido\n",
            "2  Producto C   100.0        Válido\n",
            "-----------------------------------------------------------\n"
          ]
        }
      ]
    },
    {
      "cell_type": "markdown",
      "source": [
        "\n",
        "**Se requiere validar los datos duplicados: Clientes en una Base de Datos, se tiene una lista de clientes donde algunos registros tienen el mismo ID y necesitas identificarlos.**\n",
        "\n",
        "-\tSe requiere:\n",
        "3.\tCrear un DataFrame con información de clientes.\n",
        "2. ID Cliente:1, 2, 3, 2, 4.\n",
        "3.\tNombre: Ana, Luis, María, Luis, Carlos\n",
        "4.\tVerificar si hay duplicados en la columna de ID del cliente.\n",
        "5.\tMostrar los registros duplicados.\n",
        "\n",
        "-\tResultado esperado: Una tabla que contiene solo los clientes que tienen el mismo ID, facilitando su corrección.\n",
        "\n"
      ],
      "metadata": {
        "id": "Ib2YZ-CMy9H8"
      }
    },
    {
      "cell_type": "code",
      "source": [
        "import pandas as pd\n",
        "\n",
        "# Crear un DataFrame con información de clientes\n",
        "data = {'ID Cliente': [1, 2, 3, 2, 4],\n",
        "        'Nombre': ['Ana', 'Luis', 'María', 'Luis', 'Carlos']}\n",
        "\n",
        "df = pd.DataFrame(data)\n",
        "print(df)\n",
        "print(\"\\n\")\n",
        "\n",
        "# Verificar si hay duplicados en la columna de ID del cliente\n",
        "duplicados = df[df.duplicated(subset='ID Cliente', keep=False)]\n",
        "def display_dataframe(name,DataFrame):\n",
        "    print(f\"{name}:\")\n",
        "    print(DataFrame)\n",
        "display_dataframe(\"Duplicados\",duplicados)\n",
        "\n",
        "\n"
      ],
      "metadata": {
        "colab": {
          "base_uri": "https://localhost:8080/"
        },
        "id": "IfvF344mzBS2",
        "outputId": "2685d180-bf38-48ce-a719-da651c21a012"
      },
      "execution_count": 118,
      "outputs": [
        {
          "output_type": "stream",
          "name": "stdout",
          "text": [
            "   ID Cliente  Nombre\n",
            "0           1     Ana\n",
            "1           2    Luis\n",
            "2           3   María\n",
            "3           2    Luis\n",
            "4           4  Carlos\n",
            "\n",
            "\n",
            "Duplicados:\n",
            "   ID Cliente Nombre\n",
            "1           2   Luis\n",
            "3           2   Luis\n"
          ]
        }
      ]
    },
    {
      "cell_type": "markdown",
      "source": [
        "**Se requiere tener seguridad en los datos: Encriptación y Desencriptación de Datos Sensibles, se tiene un número de tarjeta de crédito que deseas encriptar para protegerlo y luego desencriptarlo para el uso**\n",
        "\n",
        "-\tSe requiere:\n",
        "1.\tCrear una cadena con datos sensibles (un número de tarjeta 1234-5678-9101- 1121).\n",
        "2.\tEncriptar esos datos utilizando una clave generada.\n",
        "3.\tDesencriptar los datos y mostrar ambos (encriptado y desencriptado).\n",
        "\n"
      ],
      "metadata": {
        "id": "Aqcgsdct02DY"
      }
    },
    {
      "cell_type": "code",
      "source": [
        "## Generar clave de encriptación\n",
        "from cryptography.fernet import Fernet\n",
        "key = Fernet.generate_key()\n",
        "cipher_suite = Fernet(key)\n",
        "#Datos Sensibles\n",
        "\n",
        "datos_sensibles = \"1234-5678-9101- 1121\".encode()\n",
        "datos_encriptados = cipher_suite.encrypt(datos_sensibles)\n",
        "datos_desencriptados = cipher_suite.decrypt(datos_encriptados)\n",
        "print(\"Datos Encriptados:\", datos_encriptados)\n",
        "print(\"Datos Desencriptados:\", datos_desencriptados.decode())\n"
      ],
      "metadata": {
        "colab": {
          "base_uri": "https://localhost:8080/"
        },
        "id": "do9arF-006d2",
        "outputId": "2bc01ee3-81f9-42d3-e08e-1a5a084f415f"
      },
      "execution_count": 121,
      "outputs": [
        {
          "output_type": "stream",
          "name": "stdout",
          "text": [
            "Datos Encriptados: b'gAAAAABnNXa9nt-VqssRVmTrKYRYHSWzPHXgjwgMXUICHjRzcQjDBxBsdQuBcDrnX6Oh9ELDZ_WZrAiBg3L0wK4mtLdA34DujSfsyeFo11m1z2L9I-jSpnI='\n",
            "Datos Desencriptados: 1234-5678-9101- 1121\n"
          ]
        }
      ]
    }
  ]
}