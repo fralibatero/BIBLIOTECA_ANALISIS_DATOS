{
  "nbformat": 4,
  "nbformat_minor": 0,
  "metadata": {
    "colab": {
      "provenance": [],
      "toc_visible": true,
      "authorship_tag": "ABX9TyOUxlCMlwDmGF0XZRe7I9uI",
      "include_colab_link": true
    },
    "kernelspec": {
      "name": "python3",
      "display_name": "Python 3"
    },
    "language_info": {
      "name": "python"
    }
  },
  "cells": [
    {
      "cell_type": "markdown",
      "metadata": {
        "id": "view-in-github",
        "colab_type": "text"
      },
      "source": [
        "<a href=\"https://colab.research.google.com/github/fralibatero/BIBLIOTECA_ANALISIS_DATOS/blob/main/Laboratorio10.ipynb\" target=\"_parent\"><img src=\"https://colab.research.google.com/assets/colab-badge.svg\" alt=\"Open In Colab\"/></a>"
      ]
    },
    {
      "cell_type": "markdown",
      "source": [
        "## **Parte 1**"
      ],
      "metadata": {
        "id": "7MLBpVSz7L7m"
      }
    },
    {
      "cell_type": "markdown",
      "source": [],
      "metadata": {
        "id": "KYBdSEUerhk8"
      }
    },
    {
      "cell_type": "markdown",
      "source": [],
      "metadata": {
        "id": "Kln3UnTqrhne"
      }
    },
    {
      "cell_type": "markdown",
      "source": [
        "Los ejercicios de práctica son escenarios reales que se deberás realizar el código usando las bibliotecas en Python para la manipulación de los datos y limpieza de los datos, pegar la captura de pantalla del resultado.\n",
        "\n",
        "1.\tEjercicio de práctica 1.\n",
        "\n",
        "1.\tSalud Digital y Análisis de Datos de Pacientes\n",
        "Se tiene un conjunto de datos sobre pacientes que incluye nombre, edad, fecha de ingreso y resultados de pruebas. Algunos registros están incompletos o contienen errores.\n",
        "\n",
        "-\tDatos:\n",
        "•\tNombre: Carlos, Ana, Luis,Pedro, María, None\n",
        "•\tEdad: 34, 29, None, 45, 25, 33\n",
        "•\tFecha Ingreso: 2021-01-15, 2020/03/12, 2022-07-01,2021/12/01,2021-05-20, 2020-03-12\n",
        "•\tResultado Prueba: Positivo,Negativo, Positivo,Positivo, Negativo,Negativo.\n",
        "\n"
      ],
      "metadata": {
        "id": "lvekR4Wj7RlQ"
      }
    },
    {
      "cell_type": "code",
      "execution_count": null,
      "metadata": {
        "id": "TDWdCesP7FQ5"
      },
      "outputs": [],
      "source": [
        "import pandas as pd\n",
        "\n",
        "datos = {'Nombre': ['Carlos', 'Ana', 'Luis', 'Pedro', 'María', 'None'],\n",
        "         'Edad': [34, 29, None,45,25,33],\n",
        "         'fecha_ingreso': ['2021-01-15', '2020/03/12', '2022-07-01','2021/12/01', '2021-05-20', '2020-03-12'],\n",
        "         'Resultado_Prueba': ['Positivo', 'Negativo', 'Positivo', 'Positivo', 'Negativo', 'Negativo']}\n",
        "\n",
        "df=pd.DataFrame(datos)\n",
        "print(df)\n",
        "print(\"\\n\")\n",
        "\n",
        "#Identicar los Valores Nulos y rellenarlos con la media\n",
        "\n",
        "df['Edad'].fillna(df['Edad'].median(), inplace=True)\n",
        "\n",
        "print(\"Elimiandos Valores Nulos en Edad \")\n",
        "print(df)\n",
        "print(\"\\n\")\n",
        "\n",
        "#Estandarizar el formato fecha aaaa-mm-dd\n",
        "df['fecha_ingreso']=df['fecha_ingreso'].astype(str).str.replace('/', '-', regex=False)\n",
        "# Convertimos la columna 'fecha_ingreso' a formato datetime, manejando valores erróneos como NaT\n",
        "df['fecha_ingreso'] = pd.to_datetime(df['fecha_ingreso'], errors='coerce', format='%Y-%m-%d')\n",
        "\n",
        "print(\"Modificado Formato Fecha\")\n",
        "print(df)\n",
        "print(\"\\n\")\n",
        "\n",
        "#En nombre se agrega la palabra desconocido a los nombre None\n",
        "df['Nombre'] = df['Nombre'].replace(\"None\",\"Desconocido\") #Remove inplace\n",
        "\n",
        "#Modifica con desconocido  los resgistros con nombres  faltanes\n",
        "\n",
        "print(\"Modificado Nombre\")\n",
        "print(df)\n",
        "print(\"\\n\")\n",
        "\n",
        " #eliminar  de la columna Nombre  valores Nulos\n",
        "\n",
        "df_clear = df[df['Nombre'] != 'Desconocido']\n",
        "\n",
        "\n",
        "print(\"Eliminando Valores Desconicidos en Nombre\")\n",
        "print(df_clear)\n",
        "print(\"\\n\")"
      ]
    },
    {
      "cell_type": "markdown",
      "source": [
        "**2.\tComercio Electrónico y Recomendaciones Personalizadas**"
      ],
      "metadata": {
        "id": "eYvv5PTIrkXJ"
      }
    },
    {
      "cell_type": "markdown",
      "source": [],
      "metadata": {
        "id": "XrwiNBW6rtHr"
      }
    },
    {
      "cell_type": "markdown",
      "source": [
        "Se tiene un conjunto de datos sobre transacciones de clientes que incluye el ID del cliente, el producto comprado, la cantidad, el precio y la fecha de la transacción. Algunos registros tienen errores en los precios y fechas.\n",
        "\n",
        "-\tDatos:\n",
        "•\tCliente ID: 1, 2, 3, 4, 5\n",
        "•\tProducto: A, B, C,D, E\n",
        "•\tCantidad: 10, 20, None, 5, 15\n",
        "•\tPrecio:100, 200$,300, cuatrocientos,500\n",
        "•\tFecha Transacción: 2023-01-15,2023/02/20,2023-03-25,2023/04/30.2023-05-10\n"
      ],
      "metadata": {
        "id": "0NU3VMmQrtJ0"
      }
    },
    {
      "cell_type": "code",
      "source": [
        "import pandas as pd\n",
        "import numpy as np\n",
        "# Crear DataFrame\n",
        "data = {\n",
        "    'Cliente ID': [1, 2, 3, 4, 5],\n",
        "    'Producto': ['A', 'B', 'C', 'D', 'E'],\n",
        "    'Cantidad': [10,20,None,5,15],\n",
        "    'Precio': ['100', '200', '300', '400', '500'],\n",
        "    'Fecha_Transacción': ['2023-01-15','2023/02/20','2023-03-25','2023/04/30','2023-05-10']\n",
        "}\n",
        "\n",
        "df = pd.DataFrame(data)\n",
        "import pandas as pd\n",
        "import numpy as np\n",
        "# Crear DataFrame\n",
        "data = {\n",
        "    'Cliente ID': [1, 2, 3, 4, 5],\n",
        "    'Producto': ['A', 'B', 'C', 'D', 'E'],\n",
        "    'Cantidad': [10,20,None,5,15],\n",
        "    'Precio': ['100', '200', '300', 'cuatrocientos', '500'],\n",
        "    'Fecha_Transaccion': ['2023-01-15','2023/02/20','2023-03-25','2023/04/30','2023-05-10']\n",
        "}\n",
        "\n",
        "df = pd.DataFrame(data)\n",
        "print(\"Datos Originales \")\n",
        "print(df)\n",
        "print(\"\\n\")\n",
        "\n",
        "#Limpiar la columna cantidad, tiene un valor nulo\n",
        "df['Cantidad'] = df['Cantidad'].fillna(df['Cantidad'].median())\n",
        "\n",
        "print(\"**                 Datos Limpios Columna Cantidad                    **\")\n",
        "\n",
        "print(df)\n",
        "print(\"\\n\")\n",
        "\n",
        "#remplazar cuatrocientos de la columna precio por 400\n",
        "df['Precio'] = df['Precio'].str.replace('cuatrocientos', '400', regex=False).astype(int)\n",
        "print(\"**                 Datos Limpios Columna Precio                    **\")\n",
        "print(df)\n",
        "print(\"\\n\")\n",
        "\n",
        "\n",
        "#Cambiar el formato de fecha aaaa-mm-dd\n",
        "df['Fecha_Transaccion']=df['Fecha_Transaccion'].astype(str).str.replace('/', '-', regex=False)\n",
        "# Convertimos la columna 'Fecha_Transaccion' a formato datetime, manejando valores erróneos como NaT\n",
        "df['Fecha_Transaccion'] = pd.to_datetime(df['Fecha_Transaccion'], errors='coerce', format='%Y-%m-%d')\n",
        "\n",
        "# Mostrar los datos de la fecha después de la corrección\n",
        "print(\"\\nDatos Validados de Fecha de Transacción:\")\n",
        "print(df)\n",
        "print(\"*********************************-********************************\")\n",
        "print(\"\\n\")\n"
      ],
      "metadata": {
        "colab": {
          "base_uri": "https://localhost:8080/"
        },
        "id": "mBNo-81erwEM",
        "outputId": "fca5d730-fcb1-4eb7-c271-4ca2e950d563"
      },
      "execution_count": null,
      "outputs": [
        {
          "output_type": "stream",
          "name": "stdout",
          "text": [
            "Datos Originales \n",
            "   Cliente ID Producto  Cantidad         Precio Fecha_Transaccion\n",
            "0           1        A      10.0            100        2023-01-15\n",
            "1           2        B      20.0            200        2023/02/20\n",
            "2           3        C       NaN            300        2023-03-25\n",
            "3           4        D       5.0  cuatrocientos        2023/04/30\n",
            "4           5        E      15.0            500        2023-05-10\n",
            "\n",
            "\n",
            "**                 Datos Limpios Columna Cantidad                    **\n",
            "   Cliente ID Producto  Cantidad         Precio Fecha_Transaccion\n",
            "0           1        A      10.0            100        2023-01-15\n",
            "1           2        B      20.0            200        2023/02/20\n",
            "2           3        C      12.5            300        2023-03-25\n",
            "3           4        D       5.0  cuatrocientos        2023/04/30\n",
            "4           5        E      15.0            500        2023-05-10\n",
            "\n",
            "\n",
            "**                 Datos Limpios Columna Precio                    **\n",
            "   Cliente ID Producto  Cantidad  Precio Fecha_Transaccion\n",
            "0           1        A      10.0     100        2023-01-15\n",
            "1           2        B      20.0     200        2023/02/20\n",
            "2           3        C      12.5     300        2023-03-25\n",
            "3           4        D       5.0     400        2023/04/30\n",
            "4           5        E      15.0     500        2023-05-10\n",
            "\n",
            "\n",
            "\n",
            "Datos Validados de Fecha de Transacción:\n",
            "   Cliente ID Producto  Cantidad  Precio Fecha_Transaccion\n",
            "0           1        A      10.0     100        2023-01-15\n",
            "1           2        B      20.0     200        2023-02-20\n",
            "2           3        C      12.5     300        2023-03-25\n",
            "3           4        D       5.0     400        2023-04-30\n",
            "4           5        E      15.0     500        2023-05-10\n",
            "*********************************-********************************\n",
            "\n",
            "\n"
          ]
        }
      ]
    },
    {
      "cell_type": "code",
      "source": [],
      "metadata": {
        "id": "tMxMonUq1Dm0"
      },
      "execution_count": null,
      "outputs": []
    },
    {
      "cell_type": "markdown",
      "source": [
        "** Escenario: eres un analista de datos en una pequeña empresa que está recopilando información sobre sus clientes.**"
      ],
      "metadata": {
        "id": "-cD5paYg1EPv"
      }
    },
    {
      "cell_type": "markdown",
      "source": [
        "El equipo de ventas te entrega un archivo con los siguientes datos:\n",
        "•\tNombre de los clientes\n",
        "•\tEdad\n",
        "•\tCorreo electrónico\n",
        "•\tPaís\n",
        "•\tGénero\n",
        "•\tNúmero de visitas a la tienda\n",
        "\n",
        "Sin embargo, cuando abres el archivo, te das cuenta de que hay problemas en los datos:\n",
        "\n",
        "1.\tValores faltantes: Algunos clientes no tienen información sobre su edad o correo electrónico.\n",
        "2.\tDuplicados: Algunos clientes han sido registrados más de una vez.\n",
        "3.\tInconsistencias: Hay diferentes formas de escribir el género (\"M\", \"Masculino\", \"F\", \"Femenino\").\n",
        "4.\tErrores tipográficos: El nombre de algunos países está en minúsculas o mal escrito.\n",
        "5.\tValores inválidos: Hay una edad registrada que parece imposible (200 años).\n",
        "\n",
        "-\tDatos iniciales (archivo ficticio):\n",
        "•\tNombre,Edad,Email,Pais,Genero,Visitas\n",
        "•\tJuan,25,juan@mail.com,colombia,M,5\n",
        "•\tMaria,30,maria@mail.com,Colombia,F,7\n",
        "•\tPedro,,pedro@mail.com,Mexico,H,6\n",
        "•\tAna,29,ana@mail.com,Argentina,F,4\n",
        "•\tLuisa,28,luisa@mail.com,Colombia,Femenino,8\n",
        "•\tCarlos,200,carlos@mail.com,Brazil,M,2\n",
        "•\tJuan,25,juan@mail.com,colombia,M,5\n",
        "\n",
        "\n",
        "-\tObjetivo: Tu objetivo es limpiar los datos para que estén listos para el análisis, aplicando las siguientes técnicas:\n",
        "\n",
        "1.\tRellenar valores faltantes.\n",
        "2.\tEliminar duplicados.\n",
        "3.\tEstandarizar los valores de las columnas (como el género y el país).\n",
        "4.\tCorregir valores inválidos (como la edad de 200 años).\n",
        "\n"
      ],
      "metadata": {
        "id": "8Y1aiFVm1PEB"
      }
    },
    {
      "cell_type": "code",
      "source": [
        "import pandas as pd\n",
        "import numpy as np\n",
        "\n",
        "# Corregimos el número de elementos en la lista 'correo_Electronico'\n",
        "datos = {\n",
        "    'nombre': ['Juan', 'Maria', 'Pedro', 'Ana', 'Luisa', 'Carlos', 'Juan'],\n",
        "    'Edad': [25, 30, np.nan, 29, 28, 200, 25],\n",
        "    'correo_Electronico': ['juan@mail.com', 'maria@mail.com', 'pedro@mail.com', 'ana@mail.com', 'luisa@mail.com', 'carlos@mail.com', 'juan@mail.com'],\n",
        "    'pais': ['Colombia', 'Colombia', 'Mexico', 'Argentina', 'Colombia', 'Brazil', 'Colombia'],\n",
        "    'genero': ['M', 'F', 'H', 'F', 'Femenino', 'M', 'M'],\n",
        "    'visitas': [5, 7, 6, 4, 8, 2, 5]\n",
        "}\n",
        "\n",
        "# Crear el DataFrame\n",
        "df = pd.DataFrame(datos)\n",
        "\n",
        "# Mostrar el DataFrame\n",
        "print(df)\n",
        "print(\"\\n\")\n",
        "\n",
        "\n",
        "# Rellenar valores faltantes en la columna 'Edad' con la media de la edad\n",
        "df['Edad'] = df['Edad'].fillna(df['Edad'].mean())\n",
        "\n",
        "# Mostrar el DataFrame\n",
        "print(\"**                 Datos Limpios Columna Edad                    **\")\n",
        "\n",
        "print(df)\n",
        "print(\"\\n\")\n",
        "# Eliminar filas duplicadas basadas en todas las columnas\n",
        "df = df.drop_duplicates()\n",
        "print(\"**                 Eliminar Datos Duplicados                   **\")\n",
        "print(df)\n",
        "print(\"\\n\")\n",
        "\n",
        "# Estandarizar la columna 'Genero'\n",
        "df['genero'] = df['genero'].replace({'Masculino': 'M', 'Femenino': 'F'})\n",
        "\n",
        "\n",
        "print(\"**                 Estandarizar Genero                   **\")\n",
        "print(df)\n",
        "print(\"\\n\")\n",
        "\n",
        "\n",
        "# Estandarizar la columna 'Pais' a mayúsculas\n",
        "df['pais'] = df['pais'].str.capitalize()\n",
        "\n",
        "print(\"**                 Estandarizar datos del pais                   **\")\n",
        "print(df)\n",
        "print(\"\\n\")\n"
      ],
      "metadata": {
        "colab": {
          "base_uri": "https://localhost:8080/"
        },
        "id": "Ql-7zgsF1QcO",
        "outputId": "1f0b280b-3644-481b-8486-a863134ede2f"
      },
      "execution_count": null,
      "outputs": [
        {
          "output_type": "stream",
          "name": "stdout",
          "text": [
            "   nombre   Edad correo_Electronico       pais    genero  visitas\n",
            "0    Juan   25.0      juan@mail.com   Colombia         M        5\n",
            "1   Maria   30.0     maria@mail.com   Colombia         F        7\n",
            "2   Pedro    NaN     pedro@mail.com     Mexico         H        6\n",
            "3     Ana   29.0       ana@mail.com  Argentina         F        4\n",
            "4   Luisa   28.0     luisa@mail.com   Colombia  Femenino        8\n",
            "5  Carlos  200.0    carlos@mail.com     Brazil         M        2\n",
            "6    Juan   25.0      juan@mail.com   Colombia         M        5\n",
            "\n",
            "\n",
            "**                 Datos Limpios Columna Edad                    **\n",
            "   nombre        Edad correo_Electronico       pais    genero  visitas\n",
            "0    Juan   25.000000      juan@mail.com   Colombia         M        5\n",
            "1   Maria   30.000000     maria@mail.com   Colombia         F        7\n",
            "2   Pedro   56.166667     pedro@mail.com     Mexico         H        6\n",
            "3     Ana   29.000000       ana@mail.com  Argentina         F        4\n",
            "4   Luisa   28.000000     luisa@mail.com   Colombia  Femenino        8\n",
            "5  Carlos  200.000000    carlos@mail.com     Brazil         M        2\n",
            "6    Juan   25.000000      juan@mail.com   Colombia         M        5\n",
            "\n",
            "\n",
            "**                 Eliminar Datos Duplicados                   **\n",
            "   nombre        Edad correo_Electronico       pais    genero  visitas\n",
            "0    Juan   25.000000      juan@mail.com   Colombia         M        5\n",
            "1   Maria   30.000000     maria@mail.com   Colombia         F        7\n",
            "2   Pedro   56.166667     pedro@mail.com     Mexico         H        6\n",
            "3     Ana   29.000000       ana@mail.com  Argentina         F        4\n",
            "4   Luisa   28.000000     luisa@mail.com   Colombia  Femenino        8\n",
            "5  Carlos  200.000000    carlos@mail.com     Brazil         M        2\n",
            "\n",
            "\n",
            "**                 Estandarizar Genero                   **\n",
            "   nombre        Edad correo_Electronico       pais genero  visitas\n",
            "0    Juan   25.000000      juan@mail.com   Colombia      M        5\n",
            "1   Maria   30.000000     maria@mail.com   Colombia      F        7\n",
            "2   Pedro   56.166667     pedro@mail.com     Mexico      H        6\n",
            "3     Ana   29.000000       ana@mail.com  Argentina      F        4\n",
            "4   Luisa   28.000000     luisa@mail.com   Colombia      F        8\n",
            "5  Carlos  200.000000    carlos@mail.com     Brazil      M        2\n",
            "\n",
            "\n",
            "**                 Estandarizar datos del pais                   **\n",
            "   nombre        Edad correo_Electronico       pais genero  visitas\n",
            "0    Juan   25.000000      juan@mail.com   Colombia      M        5\n",
            "1   Maria   30.000000     maria@mail.com   Colombia      F        7\n",
            "2   Pedro   56.166667     pedro@mail.com     Mexico      H        6\n",
            "3     Ana   29.000000       ana@mail.com  Argentina      F        4\n",
            "4   Luisa   28.000000     luisa@mail.com   Colombia      F        8\n",
            "5  Carlos  200.000000    carlos@mail.com     Brazil      M        2\n",
            "\n",
            "\n"
          ]
        },
        {
          "output_type": "stream",
          "name": "stderr",
          "text": [
            "<ipython-input-51-82f8839630e4>:37: SettingWithCopyWarning: \n",
            "A value is trying to be set on a copy of a slice from a DataFrame.\n",
            "Try using .loc[row_indexer,col_indexer] = value instead\n",
            "\n",
            "See the caveats in the documentation: https://pandas.pydata.org/pandas-docs/stable/user_guide/indexing.html#returning-a-view-versus-a-copy\n",
            "  df['genero'] = df['genero'].replace({'Masculino': 'M', 'Femenino': 'F'})\n",
            "<ipython-input-51-82f8839630e4>:46: SettingWithCopyWarning: \n",
            "A value is trying to be set on a copy of a slice from a DataFrame.\n",
            "Try using .loc[row_indexer,col_indexer] = value instead\n",
            "\n",
            "See the caveats in the documentation: https://pandas.pydata.org/pandas-docs/stable/user_guide/indexing.html#returning-a-view-versus-a-copy\n",
            "  df['pais'] = df['pais'].str.capitalize()\n"
          ]
        }
      ]
    }
  ]
}