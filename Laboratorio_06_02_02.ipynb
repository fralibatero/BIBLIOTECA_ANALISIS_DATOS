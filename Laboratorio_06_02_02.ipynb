{
  "nbformat": 4,
  "nbformat_minor": 0,
  "metadata": {
    "colab": {
      "provenance": [],
      "authorship_tag": "ABX9TyPgoxflNFEG5IJMgf1GVpFk",
      "include_colab_link": true
    },
    "kernelspec": {
      "name": "python3",
      "display_name": "Python 3"
    },
    "language_info": {
      "name": "python"
    }
  },
  "cells": [
    {
      "cell_type": "markdown",
      "metadata": {
        "id": "view-in-github",
        "colab_type": "text"
      },
      "source": [
        "<a href=\"https://colab.research.google.com/github/fralibatero/BIBLIOTECA_ANALISIS_DATOS/blob/main/Laboratorio_06_02_02.ipynb\" target=\"_parent\"><img src=\"https://colab.research.google.com/assets/colab-badge.svg\" alt=\"Open In Colab\"/></a>"
      ]
    },
    {
      "cell_type": "markdown",
      "source": [
        "1.\tAlgoritmo para Preparar un Té: Este algoritmo describe los pasos para preparar un té y lo implementamos en Python.\n",
        "\n"
      ],
      "metadata": {
        "id": "MTonxYh-vPys"
      }
    },
    {
      "cell_type": "markdown",
      "source": [
        "**texto en negrita**\n",
        "1.\tPrepara los ingredientes: bolsa de té, agua, tetera, taza\n",
        "2.\tAgrega el agua a la tetera\n",
        "3.\tPrender la estufa\n",
        "4.\tColocar la tetera en la estufa\n",
        "5.\tDejar hervir el agua de la tetera\n",
        "6.\tPreparar la taza\n",
        "7.\tVerter  el agua hervida de la tetera en la taza\n",
        "8.\tColocar las bolsitas de te en la taza\n",
        "9.\tDejar reposar\n",
        "10.\tTomar  y Disfrutar\n"
      ],
      "metadata": {
        "id": "m3D26KpivVHX"
      }
    },
    {
      "cell_type": "code",
      "execution_count": null,
      "metadata": {
        "id": "a23l-XajsOHN"
      },
      "outputs": [],
      "source": []
    },
    {
      "cell_type": "code",
      "source": [
        "def hacer_te():\n",
        "    print(\"Prepara los ingredientes: bolsa de té, agua, tetera, taza\")\n",
        "    print(\"Agrega agua a la tetera\")\n",
        "    print(\"Prender la estufa\")\n",
        "    print(\"Coloca la tetera en la estufa\")\n",
        "    print(\"Deja hervir el agua de la tetera\")\n",
        "    print(\"Prepara la taza\")\n",
        "    print(\"Vierte el agua hervida de la tetera en la taza\")\n",
        "    print(\"Coloca la bolsa de té en la taza\")\n",
        "    print(\"Deja reposar\")\n",
        "    print(\"Sirve y disfruta\")\n",
        "\n",
        "hacer_te()"
      ],
      "metadata": {
        "colab": {
          "base_uri": "https://localhost:8080/"
        },
        "id": "eX6-V-0Iufd5",
        "outputId": "350805df-e34c-4a89-8f73-7c72fb4034f6"
      },
      "execution_count": null,
      "outputs": [
        {
          "output_type": "stream",
          "name": "stdout",
          "text": [
            "Prepara los ingredientes: bolsa de té, agua, tetera, taza\n",
            "Agrega agua a la tetera\n",
            "Prender la estufa\n",
            "Coloca la tetera en la estufa\n",
            "Deja hervir el agua de la tetera\n",
            "Prepara la taza\n",
            "Vierte el agua hervida de la tetera en la taza\n",
            "Coloca la bolsa de té en la taza\n",
            "Deja reposar\n",
            "Sirve y disfruta\n"
          ]
        }
      ]
    },
    {
      "cell_type": "markdown",
      "source": [],
      "metadata": {
        "id": "SmHRYNmVvVE2"
      }
    },
    {
      "cell_type": "markdown",
      "source": [
        "**Cálculo del Promedio de Notas: Utilizar variables y tipos de datos para almacenar las notas de un estudiante, y un operador aritmético para calcular el promedio**.\n",
        "Pasos:\n",
        "1.  Definir variables para sacar las notas\n",
        "2. incializar variables\n",
        "3.  Pedir cuantas  Notas va ingresar\n",
        "4. Pedir las notas\n",
        "5. sumar Notas\n",
        "6. divir la suma de las notas entre el nuemero de  notas\n",
        "7. mostrar el recultado"
      ],
      "metadata": {
        "id": "JyBkgWh06Au3"
      }
    },
    {
      "cell_type": "code",
      "source": [],
      "metadata": {
        "id": "9QjkJsiQCDkv"
      },
      "execution_count": null,
      "outputs": []
    },
    {
      "cell_type": "code",
      "source": [
        "\n",
        "num_notas = int(input(\"Ingrese el numero de notas a ingresar: \"))\n",
        "\n",
        "suma_notas = 0\n",
        "\n",
        "for i in range(num_notas):\n",
        "    nota = float(input(f\"Ingrese la nota {i + 1}: \"))\n",
        "    suma_notas += nota\n",
        "promedio = suma_notas / num_notas\n",
        "print(f\"El promedio de las notas es: {promedio}\")"
      ],
      "metadata": {
        "colab": {
          "base_uri": "https://localhost:8080/"
        },
        "id": "a-N30-b3AhBu",
        "outputId": "3b8f4d3a-9b81-4ed8-f207-bab9365c289a"
      },
      "execution_count": 13,
      "outputs": [
        {
          "output_type": "stream",
          "name": "stdout",
          "text": [
            "Ingrese el numero de notas a ingresar: 5\n",
            "Ingrese la nota 1: 4\n",
            "Ingrese la nota 2: 3\n",
            "Ingrese la nota 3: 5\n",
            "Ingrese la nota 4: 5\n",
            "Ingrese la nota 5: 4\n",
            "El promedio de las notas es: 4.2\n"
          ]
        }
      ]
    },
    {
      "cell_type": "markdown",
      "source": [
        "[texto del enlace](https://)**Verificar si un Número es Par o Impar: Utiliza condicionales para verificar si un número es par o impar, y operadores para realizar el cálculo**\n",
        "\n",
        "Pasos\n",
        "\n",
        "1. ingresar el numero\n",
        "2. Evaliuar si el numero es impar\n",
        "3. impimir mensaje de impar\n",
        "4. Evaluar el numero si es par\n",
        "5. impimir mensanje de imprar"
      ],
      "metadata": {
        "id": "D9P2y8MRCEcU"
      }
    },
    {
      "cell_type": "code",
      "source": [
        "\n",
        "x =   int(input(\"Ingresa el numero: \"))\n",
        "\n",
        "if X % 2 == 0:\n",
        "    print(\"El numero \",x ,\"es par\")\n",
        "else:\n",
        "    print(\"El numero\",x ,\"es impar\")"
      ],
      "metadata": {
        "colab": {
          "base_uri": "https://localhost:8080/"
        },
        "id": "xgiknKYMEMHp",
        "outputId": "720683f2-8b60-4388-b7d1-983b13bd668a"
      },
      "execution_count": 22,
      "outputs": [
        {
          "output_type": "stream",
          "name": "stdout",
          "text": [
            "Ingresa el numero: 3\n",
            "El numero 3 es impar\n"
          ]
        }
      ]
    },
    {
      "cell_type": "markdown",
      "source": [
        "**Bucle for para Imprimir Números del 1 al 5: Usar un bucle for para mostrar los números del 1 al 5 y combinar los operadores aritméticos para mostrar si son pares o impares**\n",
        "Pasos\n",
        "\n",
        "\n",
        "Pasos\n",
        "\n",
        "1. inicializa i = 1\n",
        "2. realizar el ciclo\n",
        "2. Evaliuar si el numero es impar\n",
        "3. impimir mensaje de impar\n",
        "4. Evaluar el numero si es par\n",
        "5. impimir mensanje de imprar"
      ],
      "metadata": {
        "id": "9ps0RRdiFxTI"
      }
    },
    {
      "cell_type": "code",
      "source": [
        "i =  1\n",
        "for i in range(i,6):\n",
        "  if i % 2 == 0:\n",
        "    print(\"El numero \",i ,\"es par\")\n",
        "  else:\n",
        "    if i % 2 != 0:\n",
        "       print(\"El numero\",i ,\"es impar\")"
      ],
      "metadata": {
        "colab": {
          "base_uri": "https://localhost:8080/"
        },
        "id": "EydsTp27GN3S",
        "outputId": "d7f4c72b-74f7-4429-d962-ba9aa151b5de"
      },
      "execution_count": 29,
      "outputs": [
        {
          "output_type": "stream",
          "name": "stdout",
          "text": [
            "El numero 1 es impar\n",
            "El numero  2 es par\n",
            "El numero 3 es impar\n",
            "El numero  4 es par\n",
            "El numero 5 es impar\n"
          ]
        }
      ]
    },
    {
      "cell_type": "markdown",
      "source": [
        "Convertir Grados Celsius a Fahrenheit: Usar una función para convertir grados Celsius a Fahrenheit. La fórmula para la conversión es Fahrenheit = (Celsius * 9/5) + 32.\n",
        "\n",
        "Pasos:\n",
        "\n",
        "1. identificar a que de va convertir los grados\n",
        "2.Definir la funcion\n",
        "3.aplicar formula\n",
        "4.ingresar la temperatura\n",
        "5. imprimir resultados  "
      ],
      "metadata": {
        "id": "stSsyK8cHo0t"
      }
    },
    {
      "cell_type": "code",
      "source": [
        "# convertir grados Celsius a Fahrenheit\n",
        "\n",
        "def celsius_a_fahrenheit(celsius):\n",
        "    fahrenheit = (celsius * 9/5) + 32\n",
        "    return fahrenheit\n",
        "\n",
        "celsius = float(input(\"Ingrese la temperatura en grados Celsius: \"))\n",
        "fahrenheit = celsius_a_fahrenheit(celsius)\n",
        "print(f\"{celsius} grados Celsius son equivalentes a {fahrenheit} grados Fahrenheit.\")\n"
      ],
      "metadata": {
        "colab": {
          "base_uri": "https://localhost:8080/"
        },
        "id": "UlqWqe3uHl2q",
        "outputId": "b0f4b398-1e70-4e16-baed-0fe28cf95d0f"
      },
      "execution_count": 33,
      "outputs": [
        {
          "output_type": "stream",
          "name": "stdout",
          "text": [
            "Ingrese la temperatura en grados Celsius: 50\n",
            "50.0 grados Celsius son equivalentes a 122.0 grados Fahrenheit.\n"
          ]
        }
      ]
    },
    {
      "cell_type": "markdown",
      "source": [
        "**la Cantidad de Vocales en una Cadena de Texto: Utilizar un bucle for y una condicional para contar cuántas vocales hay en una cadena de texto ingresada por el usuario**\n",
        "\n",
        "\n",
        "Pasos\n",
        "1. ingresar el texto\n",
        "2.definir varibles\n",
        "3. recorreger el texto con for\n",
        "4. contar la letra si es una vocal\n",
        "5. impimir el resultado"
      ],
      "metadata": {
        "id": "UZt5ld4WKme8"
      }
    },
    {
      "cell_type": "code",
      "source": [
        "texto = input(\"Ingrese una cadena de texto: \")\n",
        "vocales = \"aeiouAEIOU\"\n",
        "contador = 0\n",
        "for letra in texto:\n",
        "    if letra in vocales:\n",
        "        contador += 1\n",
        "print(f\"La cadena de texto '{texto}' tiene {contador} vocales.\")\n",
        "\n"
      ],
      "metadata": {
        "colab": {
          "base_uri": "https://localhost:8080/"
        },
        "id": "jma5pxCfLWFf",
        "outputId": "3d390c48-c0a6-49e9-df6e-37eda7a3f52b"
      },
      "execution_count": 36,
      "outputs": [
        {
          "output_type": "stream",
          "name": "stdout",
          "text": [
            "Ingrese una cadena de texto: FRANCIA \n",
            "La cadena de texto 'FRANCIA ' tiene 3 vocales.\n"
          ]
        }
      ]
    },
    {
      "cell_type": "code",
      "source": [],
      "metadata": {
        "id": "s3ZzjGyiOaNG"
      },
      "execution_count": null,
      "outputs": []
    },
    {
      "cell_type": "markdown",
      "source": [
        "**\tCalcular el Factorial de un Número: Usar un bucle while para calcular el factorial de un número ingresado por el usuario. El factorial de un número n (n!) es el producto de todos los números enteros positivos menores o iguales a n**\n",
        "\n",
        "Pasos\n",
        "1. Pedir el numero n factorial\n",
        "2. recorrer en ciclo hasta n es 1\n",
        "3. imprimir el resultado\n"
      ],
      "metadata": {
        "id": "GuCM8vbhMn9m"
      }
    },
    {
      "cell_type": "code",
      "source": [
        "numero = int(input(\"Ingrese un número para calcular su factorial: \"))\n",
        "factorial = 1\n",
        "con = 1\n",
        "while con <= numero:\n",
        "    factorial *= con\n",
        "    con += 1\n",
        "print(f\"El factorial de {numero} es {factorial}.\")"
      ],
      "metadata": {
        "colab": {
          "base_uri": "https://localhost:8080/"
        },
        "id": "iDmUb5OUObIT",
        "outputId": "c9d9f6f5-bc89-4828-f509-95727c567181"
      },
      "execution_count": 37,
      "outputs": [
        {
          "output_type": "stream",
          "name": "stdout",
          "text": [
            "Ingrese un número para calcular su factorial: 5\n",
            "El factorial de 5 es 120.\n"
          ]
        }
      ]
    }
  ]
}