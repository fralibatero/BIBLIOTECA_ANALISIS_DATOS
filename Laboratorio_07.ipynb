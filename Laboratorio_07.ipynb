{
  "nbformat": 4,
  "nbformat_minor": 0,
  "metadata": {
    "colab": {
      "provenance": [],
      "mount_file_id": "1W_9UnA15oboklpUSWTF9uIham9l8lyQD",
      "authorship_tag": "ABX9TyMxfZKvkaoE+MLhNRqmD1A/",
      "include_colab_link": true
    },
    "kernelspec": {
      "name": "python3",
      "display_name": "Python 3"
    },
    "language_info": {
      "name": "python"
    }
  },
  "cells": [
    {
      "cell_type": "markdown",
      "metadata": {
        "id": "view-in-github",
        "colab_type": "text"
      },
      "source": [
        "<a href=\"https://colab.research.google.com/github/fralibatero/BIBLIOTECA_ANALISIS_DATOS/blob/main/Laboratorio_07.ipynb\" target=\"_parent\"><img src=\"https://colab.research.google.com/assets/colab-badge.svg\" alt=\"Open In Colab\"/></a>"
      ]
    },
    {
      "cell_type": "markdown",
      "source": [
        "**Crear un DataFrame con los nombres, profesión y países de 8 personas, y luego imprimir el DataFrame**"
      ],
      "metadata": {
        "id": "1ZYPIITFUlMp"
      }
    },
    {
      "cell_type": "code",
      "source": [
        "import pandas as pd\n",
        "\n",
        "datos = pd.DataFrame({\n",
        "    'Nombre': ['Katalina', 'Francia', 'Gloria', 'Alicia', 'Moises', 'Clara', 'Jenny', 'Orlando'],\n",
        "    'Profesion': ['Contador', 'Analista de Datos', 'Abogado', 'Medico', 'Enfermedra', 'Pediatra', 'Programador', 'Analista Web'],\n",
        "    'Pais': ['Colombia', 'Brazil', 'España', 'Estados Unidos', 'Canada', 'Filandia', 'Alemania', 'Portugal']\n",
        "})\n",
        "\n",
        "df = pd.DataFrame(datos)\n",
        "print(df)"
      ],
      "metadata": {
        "colab": {
          "base_uri": "https://localhost:8080/"
        },
        "id": "SoGMPhxrbsip",
        "outputId": "5f015fb8-0b37-4625-d586-877bf8aa80ad"
      },
      "execution_count": 7,
      "outputs": [
        {
          "output_type": "stream",
          "name": "stdout",
          "text": [
            "     Nombre          Profesion            Pais\n",
            "0  Katalina           Contador        Colombia\n",
            "1   Francia  Analista de Datos          Brazil\n",
            "2    Gloria            Abogado          España\n",
            "3    Alicia             Medico  Estados Unidos\n",
            "4    Moises         Enfermedra          Canada\n",
            "5     Clara           Pediatra        Filandia\n",
            "6     Jenny        Programador        Alemania\n",
            "7   Orlando       Analista Web        Portugal\n"
          ]
        }
      ]
    },
    {
      "cell_type": "markdown",
      "source": [
        "**Cargar un archivo CSV (puedes usar un archivo de ejemplo en tu entorno) y mostrar las primeras 5 filas**"
      ],
      "metadata": {
        "id": "7vMJnXricu-o"
      }
    },
    {
      "cell_type": "code",
      "source": [
        "\n",
        "import pandas as pd\n",
        "\n",
        "df = pd.read_csv('data.csv')\n",
        "print(df.head())\n"
      ],
      "metadata": {
        "colab": {
          "base_uri": "https://localhost:8080/"
        },
        "id": "gmRFlkUeoYKP",
        "outputId": "0872c93b-1278-4f93-a4e2-46346f4e12b0"
      },
      "execution_count": 33,
      "outputs": [
        {
          "output_type": "stream",
          "name": "stdout",
          "text": [
            "   Duracion  Pulso  Maxpulso  Calorias\n",
            "0        60    110       130     409.1\n",
            "1        60    117       145     479.0\n",
            "2        60    103       135     340.0\n",
            "3        45    109       175     282.4\n",
            "4        45    117       148     406.0\n"
          ]
        }
      ]
    },
    {
      "cell_type": "code",
      "source": [
        "import pandas as pd\n",
        "\n",
        "df = pd.read_json('data.json')\n",
        "print(df.head())\n"
      ],
      "metadata": {
        "colab": {
          "base_uri": "https://localhost:8080/"
        },
        "id": "HitN3ghEvVz7",
        "outputId": "eeef9cd0-0319-47f1-b772-0eb70f2299b9"
      },
      "execution_count": 43,
      "outputs": [
        {
          "output_type": "stream",
          "name": "stdout",
          "text": [
            "   Duracion  Pulso  Maxpulso  Calorias\n",
            "0        60    110       130     409.1\n",
            "1        60    117       145     479.0\n",
            "2        60    103       135     340.0\n",
            "3        45    109       175     282.4\n",
            "4        45    117       148     406.0\n"
          ]
        }
      ]
    },
    {
      "cell_type": "code",
      "source": [],
      "metadata": {
        "id": "4d8S5RU2vlnf"
      },
      "execution_count": null,
      "outputs": []
    },
    {
      "cell_type": "markdown",
      "source": [
        "**-\tGenerar un DataFrame con 100 filas y 8 columnas de valores aleatorios, y luego mostrar un resumen estadístico de los datos.**"
      ],
      "metadata": {
        "id": "OSaSeAcJr6W9"
      }
    },
    {
      "cell_type": "code",
      "source": [
        "import pandas as pd\n",
        "import numpy as np\n",
        "\n",
        "df = pd.DataFrame(np.random.rand(100, 8), columns=list('ABCDEFGH'))\n",
        "\n",
        "print(df)\n"
      ],
      "metadata": {
        "colab": {
          "base_uri": "https://localhost:8080/"
        },
        "id": "BmTKS5eOsCOK",
        "outputId": "5a128e76-d7f2-425c-c862-badb095db3a0"
      },
      "execution_count": 42,
      "outputs": [
        {
          "output_type": "stream",
          "name": "stdout",
          "text": [
            "           A         B         C         D         E         F         G  \\\n",
            "0   0.926417  0.935167  0.022578  0.886185  0.592961  0.163531  0.974997   \n",
            "1   0.927462  0.838365  0.800281  0.691833  0.033663  0.652846  0.344123   \n",
            "2   0.887735  0.339978  0.862266  0.929035  0.624579  0.974550  0.140718   \n",
            "3   0.973708  0.326989  0.703444  0.670677  0.317751  0.145487  0.778208   \n",
            "4   0.375175  0.141709  0.851390  0.831444  0.772261  0.629728  0.949265   \n",
            "..       ...       ...       ...       ...       ...       ...       ...   \n",
            "95  0.348006  0.339061  0.660338  0.969671  0.311151  0.256098  0.293773   \n",
            "96  0.490715  0.547450  0.497283  0.210910  0.840332  0.392329  0.439757   \n",
            "97  0.405986  0.207970  0.538041  0.993415  0.999042  0.173671  0.771309   \n",
            "98  0.327074  0.333095  0.994332  0.418764  0.793159  0.359884  0.560054   \n",
            "99  0.457179  0.612494  0.018997  0.161244  0.862683  0.469245  0.963995   \n",
            "\n",
            "           H  \n",
            "0   0.058420  \n",
            "1   0.169642  \n",
            "2   0.614389  \n",
            "3   0.482223  \n",
            "4   0.536621  \n",
            "..       ...  \n",
            "95  0.634088  \n",
            "96  0.275901  \n",
            "97  0.843771  \n",
            "98  0.555134  \n",
            "99  0.310392  \n",
            "\n",
            "[100 rows x 8 columns]\n"
          ]
        }
      ]
    },
    {
      "cell_type": "markdown",
      "source": [
        "# **Parte  2**\n",
        "**El segundo ejercicio de práctica deberás realizar el código usando las funciones y bibliotecas Numpy en Python, con el respectivo grafico según los escenarios, escribir el respectivo código y mostrar el resultado, aplicar los temas vistos en clase**\n"
      ],
      "metadata": {
        "id": "xIh3WYj2vm4h"
      }
    },
    {
      "cell_type": "markdown",
      "source": [
        "***Ejercicio de práctica 2***\n",
        "**Crear un array de números del 1 al 10 y mostrar la suma, la media, y el valor máximo**"
      ],
      "metadata": {
        "id": "KcMg3MRvv_SW"
      }
    },
    {
      "cell_type": "code",
      "source": [
        "import numpy as np\n",
        "vector = np.array([1, 2, 3, 4, 5, 6, 7, 8, 9,10])\n",
        "suma = np.sum(vector)\n",
        "media = np.mean(vector)\n",
        "maximo = np.max(vector)\n",
        "print(\"La suma es:\", suma)\n",
        "print(\"La media es:\", media)\n",
        "print(\"El valor máximo es:\", maximo)"
      ],
      "metadata": {
        "colab": {
          "base_uri": "https://localhost:8080/"
        },
        "id": "TWd_OiFDwVDo",
        "outputId": "f3524a7c-5494-4472-a651-81a7a010b987"
      },
      "execution_count": 46,
      "outputs": [
        {
          "output_type": "stream",
          "name": "stdout",
          "text": [
            "La suma es: 55\n",
            "La media es: 5.5\n",
            "El valor máximo es: 10\n"
          ]
        }
      ]
    },
    {
      "cell_type": "markdown",
      "source": [
        "**-\tCrear un array de 3x4 lleno de ceros y luego cambiar su forma a 2x6** *texto en cursiva*"
      ],
      "metadata": {
        "id": "ztIuFvqNxZV9"
      }
    },
    {
      "cell_type": "code",
      "source": [
        "import numpy as np\n",
        "array = np.zeros((3, 4))\n",
        "print(array, \"Vector incial\",\"\\n\")\n",
        "array = array.reshape(2, 6) # cambia la forma  de la matriz\n",
        "print(array, \"Vector Final\",\"\\n\")"
      ],
      "metadata": {
        "colab": {
          "base_uri": "https://localhost:8080/"
        },
        "id": "gWNGoqKyxd9c",
        "outputId": "512deb0a-126a-404a-cba3-6372cd60179e"
      },
      "execution_count": 59,
      "outputs": [
        {
          "output_type": "stream",
          "name": "stdout",
          "text": [
            "[[0. 0. 0. 0.]\n",
            " [0. 0. 0. 0.]\n",
            " [0. 0. 0. 0.]] Vector incial \n",
            "\n",
            "[[0. 0. 0. 0. 0. 0.]\n",
            " [0. 0. 0. 0. 0. 0.]] Vector Final \n",
            "\n"
          ]
        }
      ]
    },
    {
      "cell_type": "markdown",
      "source": [
        "**-\tGenerar una matriz aleatoria de 3x3 y calcular su transpuesta.**\n"
      ],
      "metadata": {
        "id": "UHj-9nd8zsd3"
      }
    },
    {
      "cell_type": "code",
      "source": [
        "import numpy as np\n",
        "vector = np.random.rand(3,3)\n",
        "print(vector, \"Vector incial\",\"\\n\")\n",
        "transpuesta = np.transpose(vector)\n",
        "print(transpuesta, \"Vector Final\",\"\\n\")\n"
      ],
      "metadata": {
        "colab": {
          "base_uri": "https://localhost:8080/"
        },
        "id": "Cj8J7fIwzrfe",
        "outputId": "4bfe1307-7ea5-42ed-af6e-deb9bb3319c3"
      },
      "execution_count": 69,
      "outputs": [
        {
          "output_type": "stream",
          "name": "stdout",
          "text": [
            "[[0.72677879 0.78336444 0.73130459]\n",
            " [0.29750329 0.84039817 0.67534181]\n",
            " [0.53320609 0.95013669 0.71420489]] Vector incial \n",
            "\n",
            "[[0.72677879 0.29750329 0.53320609]\n",
            " [0.78336444 0.84039817 0.95013669]\n",
            " [0.73130459 0.67534181 0.71420489]] Vector Final \n",
            "\n"
          ]
        }
      ]
    },
    {
      "cell_type": "markdown",
      "source": [
        "**-\tConcatenar dos arrays de NumPy, cada uno con 5 valores, y luego imprimir el array concatenado.**\n",
        "\n",
        "> Añadir blockquote\n",
        "\n"
      ],
      "metadata": {
        "id": "JwXw00V-19nZ"
      }
    },
    {
      "cell_type": "code",
      "source": [
        "import pandas as pd\n",
        "import numpy as np\n",
        "vector = np.array([1,2,3,4,5])\n",
        "vector_2 = np.array([6,7,8,9, 10])\n",
        "concatenado = np.concatenate((vector, vector_2))\n",
        "print(vector, \"Vector incial\",\"\\n\")\n",
        "print(vector_2, \"Vector dos\",\"\\n\")\n",
        "print(concatenado, \"Vector Concatenado\",\"\\n\")\n"
      ],
      "metadata": {
        "colab": {
          "base_uri": "https://localhost:8080/"
        },
        "id": "cY4oA5nW2Bm5",
        "outputId": "7e7e93d3-936d-49ff-9eaa-25a4c317f525"
      },
      "execution_count": 77,
      "outputs": [
        {
          "output_type": "stream",
          "name": "stdout",
          "text": [
            "[1 2 3 4 5] Vector incial \n",
            "\n",
            "[ 6  7  8  9 10] Vector dos \n",
            "\n",
            "[ 1  2  3  4  5  6  7  8  9 10] Vector Concatenado \n",
            "\n"
          ]
        }
      ]
    }
  ]
}